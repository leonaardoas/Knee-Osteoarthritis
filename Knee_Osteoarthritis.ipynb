{
  "cells": [
    {
      "cell_type": "markdown",
      "metadata": {
        "id": "view-in-github",
        "colab_type": "text"
      },
      "source": [
        "<a href=\"https://colab.research.google.com/github/leonaardoas/Knee-Osteoarthritis/blob/main/Knee_Osteoarthritis.ipynb\" target=\"_parent\"><img src=\"https://colab.research.google.com/assets/colab-badge.svg\" alt=\"Open In Colab\"/></a>"
      ]
    },
    {
      "cell_type": "code",
      "execution_count": null,
      "metadata": {
        "id": "jdK5o3KR-ODn"
      },
      "outputs": [],
      "source": [
        "# Instalar a biblioteca kaggle\n",
        "!pip install kaggle"
      ]
    },
    {
      "cell_type": "code",
      "execution_count": null,
      "metadata": {
        "id": "NJ38zCnx-ezj"
      },
      "outputs": [],
      "source": [
        "# Fazer upload do arquivo kaggle.json\n",
        "from google.colab import files\n",
        "files.upload()  # Selecione o arquivo kaggle.json"
      ]
    },
    {
      "cell_type": "code",
      "execution_count": 3,
      "metadata": {
        "id": "MeIE8fna-fBj"
      },
      "outputs": [],
      "source": [
        "# Mover o arquivo kaggle.json para a pasta correta\n",
        "!mkdir -p ~/.kaggle\n",
        "!mv kaggle.json ~/.kaggle/\n",
        "!chmod 600 ~/.kaggle/kaggle.json"
      ]
    },
    {
      "cell_type": "code",
      "execution_count": null,
      "metadata": {
        "id": "PhewrUQD-fRM"
      },
      "outputs": [],
      "source": [
        "# Baixar o dataset Knee Osteoarthritis do Kaggle\n",
        "!kaggle datasets download -d shashwatwork/knee-osteoarthritis-dataset-with-severity\n"
      ]
    },
    {
      "cell_type": "code",
      "execution_count": null,
      "metadata": {
        "id": "U1s6-yLI-fej"
      },
      "outputs": [],
      "source": [
        "# Descompactar o arquivo ZIP baixado\n",
        "!unzip knee-osteoarthritis-dataset-with-severity.zip"
      ]
    },
    {
      "cell_type": "code",
      "execution_count": null,
      "metadata": {
        "id": "3B0hAC_CCCWY"
      },
      "outputs": [],
      "source": [
        "!ls"
      ]
    },
    {
      "cell_type": "code",
      "execution_count": null,
      "metadata": {
        "id": "wgiAnrWr-BGQ"
      },
      "outputs": [],
      "source": [
        "import os"
      ]
    },
    {
      "cell_type": "code",
      "execution_count": null,
      "metadata": {
        "id": "mDT_7ZGQDcDh"
      },
      "outputs": [],
      "source": [
        "listimg = os.listdir(\"/content/test/0\")\n",
        "listimg"
      ]
    },
    {
      "cell_type": "code",
      "execution_count": null,
      "metadata": {
        "id": "GzGv-iga-jDZ"
      },
      "outputs": [],
      "source": [
        "import pandas as pd"
      ]
    },
    {
      "cell_type": "code",
      "execution_count": null,
      "metadata": {
        "id": "uBKtVd5E_Hjn"
      },
      "outputs": [],
      "source": [
        "rotulos = [0, 1, 2, 3, 4]"
      ]
    },
    {
      "cell_type": "code",
      "execution_count": null,
      "metadata": {
        "id": "F9yjBS6wAiB2"
      },
      "outputs": [],
      "source": [
        "df = pd.DataFrame()"
      ]
    },
    {
      "cell_type": "code",
      "execution_count": null,
      "metadata": {
        "id": "ah30L_jP_f1K"
      },
      "outputs": [],
      "source": [
        "for rotulo in rotulos:\n",
        "  lnk = f'/content/train/{rotulo}'\n",
        "  arquivos = os.listdir(lnk)\n",
        "  dftrain = pd.DataFrame(arquivos)\n",
        "  dftrain[\"Classe\"] = rotulo\n",
        "\n",
        "  df = pd.concat([df, dftrain], ignore_index=True)\n",
        "\n",
        "\n",
        "print(df)"
      ]
    }
  ],
  "metadata": {
    "colab": {
      "provenance": [],
      "authorship_tag": "ABX9TyO8F3Q1Eg/ZY8576seIbjfS",
      "include_colab_link": true
    },
    "kernelspec": {
      "display_name": "Python 3",
      "name": "python3"
    },
    "language_info": {
      "name": "python"
    }
  },
  "nbformat": 4,
  "nbformat_minor": 0
}